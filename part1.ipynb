{
 "cells": [
  {
   "cell_type": "code",
   "execution_count": null,
   "metadata": {},
   "outputs": [],
   "source": [
    "for i in range(100):\n",
    "    print('Hello, World!')"
   ]
  },
  {
   "cell_type": "code",
   "execution_count": 1,
   "metadata": {},
   "outputs": [],
   "source": [
    "# ドキュメンテーション文字列\n",
    "def add(x, y):\n",
    "    \"\"\"\n",
    "    Returns x + y.\n",
    "    :param x: int.\n",
    "    :param y: int.\n",
    "    :return: int sum of x and y.\n",
    "    \"\"\"\n",
    "    return x + y"
   ]
  },
  {
   "cell_type": "code",
   "execution_count": 2,
   "metadata": {},
   "outputs": [
    {
     "data": {
      "text/plain": [
       "6"
      ]
     },
     "execution_count": 2,
     "metadata": {},
     "output_type": "execute_result"
    }
   ],
   "source": [
    "add(2,4)"
   ]
  },
  {
   "cell_type": "code",
   "execution_count": 3,
   "metadata": {},
   "outputs": [
    {
     "name": "stdout",
     "output_type": "stream",
     "text": [
      "A. Development\n",
      "Friends\n",
      "Always Sunny\n"
     ]
    }
   ],
   "source": [
    "# for loopでtupleの要素を繰り返す\n",
    "coms = ('A. Development', 'Friends', 'Always Sunny')\n",
    "for show in coms:\n",
    "    print(show)"
   ]
  },
  {
   "cell_type": "code",
   "execution_count": 4,
   "metadata": {},
   "outputs": [
    {
     "name": "stdout",
     "output_type": "stream",
     "text": [
      "['GOT', 'NARCOS', 'VICE']\n"
     ]
    }
   ],
   "source": [
    "# for loopでリストなどのミュータブルなイテラブルを更新する\n",
    "tv = ['GOT', 'Narcos', 'Vice']\n",
    "i = 0\n",
    "for show in tv:\n",
    "    new = tv[i]\n",
    "    new = new.upper()\n",
    "    tv[i] = new\n",
    "    i += 1\n",
    "\n",
    "print(tv)"
   ]
  },
  {
   "cell_type": "code",
   "execution_count": 5,
   "metadata": {},
   "outputs": [
    {
     "name": "stdout",
     "output_type": "stream",
     "text": [
      "['GOT', 'NARCOS', 'VICE']\n"
     ]
    }
   ],
   "source": [
    "# tvを繰り返す代わりに、tv を enumerate関数に渡してこれを繰り返す\n",
    "tv = ['GOT', 'Narcos', 'Vice']\n",
    "\n",
    "for i, new in enumerate(tv):\n",
    "    new = tv[i]\n",
    "    new = new.upper()\n",
    "    tv[i] = new\n",
    "print(tv)"
   ]
  },
  {
   "cell_type": "code",
   "execution_count": 7,
   "metadata": {},
   "outputs": [
    {
     "name": "stdout",
     "output_type": "stream",
     "text": [
      "['GOT', 'NARCOS', 'VICE']\n"
     ]
    }
   ],
   "source": [
    "# for loop の中でデータを加工して別のリストに追加する\n",
    "tv = ['GOT', 'Narcos', 'Vice']\n",
    "coms = ['Arrested Development', 'frineds', 'Always Sunny']\n",
    "all_shows = []\n",
    "\n",
    "for show in tv:\n",
    "    show = show.upper()\n",
    "    all_shows.append(show)\n",
    "\n",
    "for show in coms:\n",
    "    show = show.upper()\n",
    "\n",
    "print(all_shows)"
   ]
  },
  {
   "cell_type": "code",
   "execution_count": 8,
   "metadata": {},
   "outputs": [
    {
     "name": "stdout",
     "output_type": "stream",
     "text": [
      "10\n",
      "9\n",
      "8\n",
      "7\n",
      "6\n",
      "5\n",
      "4\n",
      "3\n",
      "2\n",
      "1\n",
      "Happy New Year!\n"
     ]
    }
   ],
   "source": [
    "# while loop\n",
    "x = 10\n",
    "while x>0:\n",
    "    print(f'{x}')\n",
    "    x -= 1\n",
    "print('Happy New Year!')"
   ]
  },
  {
   "cell_type": "code",
   "execution_count": 9,
   "metadata": {},
   "outputs": [
    {
     "name": "stdout",
     "output_type": "stream",
     "text": [
      "Type q to quit\n",
      "Type q to quit\n",
      "Type q to quit\n",
      "Type q to quit\n",
      "Type q to quit\n"
     ]
    }
   ],
   "source": [
    "# while loopと break 文 でloopを終了させる\n",
    "qs = ['what is your name?',\n",
    "      'what is your fav. color?',\n",
    "      'what is your quest?'\n",
    " ]\n",
    "n = 0\n",
    "\n",
    "while True:\n",
    "    print('Type q to quit')\n",
    "    a = input(qs[n])\n",
    "    if a == 'q':\n",
    "        break\n",
    "    n = (n + 1) % 3\n"
   ]
  },
  {
   "cell_type": "code",
   "execution_count": 10,
   "metadata": {},
   "outputs": [
    {
     "name": "stdout",
     "output_type": "stream",
     "text": [
      "1\n",
      "2\n",
      "4\n",
      "5\n"
     ]
    }
   ],
   "source": [
    "# continue 文\n",
    "for i in range(1, 6):\n",
    "    if i == 3:\n",
    "        continue\n",
    "    print(i)"
   ]
  },
  {
   "cell_type": "code",
   "execution_count": 1,
   "metadata": {},
   "outputs": [],
   "source": [
    "def optimal_path(matrix):\n",
    "    n = len(matrix)\n",
    "    row, col = 0, 0\n",
    "    points = 0\n",
    "    result = []\n",
    "    for i in range(n):\n",
    "        result.append([0] * n)\n",
    "\n",
    "    for i in range(n):\n",
    "        for j in range(n):\n",
    "            if i == 0 and j == 0:\n",
    "                result[i][j] = matrix[i][j]\n",
    "            elif i == 0:\n",
    "                result[i][j] = result[i][j-1] + matrix[i][j]\n",
    "            elif j == 0:\n",
    "                result[i][j] = result[i-1][j] + matrix[i][j]\n",
    "            else:\n",
    "                result[i][j] = max(result[i-1][j], result[i][j-1]) + matrix[i][j]\n",
    "\n",
    "    row, col = n-1, n-1\n",
    "    while row >= 0 and col >= 0:\n",
    "        points += matrix[row][col]\n",
    "        if row == 0 and col == 0:\n",
    "            break\n",
    "        elif row == 0:\n",
    "            col -= 1\n",
    "        elif col == 0:\n",
    "            row -= 1\n",
    "        else:\n",
    "            if result[row-1][col] > result[row][col-1]:\n",
    "                row -= 1\n",
    "            else:\n",
    "                col -= 1\n",
    "    return points, result[n-1][n-1]"
   ]
  },
  {
   "cell_type": "code",
   "execution_count": 2,
   "metadata": {},
   "outputs": [
    {
     "name": "stdout",
     "output_type": "stream",
     "text": [
      "(36, 36)\n"
     ]
    }
   ],
   "source": [
    "matrix = [[4, 2, 1, 3], [2, 5, 7, 4], [8, 5, 7, 9], [6, 4, 2, 1]]\n",
    "print(optimal_path(matrix))"
   ]
  },
  {
   "cell_type": "code",
   "execution_count": 3,
   "metadata": {},
   "outputs": [
    {
     "name": "stdout",
     "output_type": "stream",
     "text": [
      "['d', 'r', 'd', 'r']\n"
     ]
    }
   ],
   "source": [
    "def optimal_path(matrix):\n",
    "    n = len(matrix)\n",
    "    center = (n - 1) // 2\n",
    "    start_points = [(0, 0), (0, n - 1), (n - 1, 0), (n - 1, n - 1)]\n",
    "    path_points = []\n",
    "\n",
    "    for start in start_points:\n",
    "        row, col = start\n",
    "        path = []\n",
    "        points = 0\n",
    "\n",
    "        while row != center or col != center:\n",
    "            points += matrix[row][col]\n",
    "            if row < center and col < center:\n",
    "                path.append('d')\n",
    "                path.append('r')\n",
    "                row += 1\n",
    "                col += 1\n",
    "            elif row < center and col > center:\n",
    "                path.append('d')\n",
    "                path.append('l')\n",
    "                row += 1\n",
    "                col -= 1\n",
    "            elif row > center and col < center:\n",
    "                path.append('u')\n",
    "                path.append('r')\n",
    "                row -= 1\n",
    "                col += 1\n",
    "            elif row > center and col > center:\n",
    "                path.append('u')\n",
    "                path.append('l')\n",
    "                row -= 1\n",
    "                col -= 1\n",
    "            elif row == center:\n",
    "                if col < center:\n",
    "                    path.append('r')\n",
    "                    col += 1\n",
    "                else:\n",
    "                    path.append('l')\n",
    "                    col -= 1\n",
    "            elif col == center:\n",
    "                if row < center:\n",
    "                    path.append('d')\n",
    "                    row += 1\n",
    "                else:\n",
    "                    path.append('u')\n",
    "                    row -= 1\n",
    "\n",
    "        path_points.append((path, points))\n",
    "\n",
    "    path_points.sort(key=lambda x: (-x[1], start_points.index(start)))\n",
    "    return path_points[0][0]\n",
    "\n",
    "matrix = [[1,-2,3,2,1],[1,2,4,-8,2],[2,1,6,4,3],[3,-7,1,0,-4],[4,3,2,2,1]]\n",
    "1,-2,3,2,1;1,2,4,-8,2;2,1,6,4,3;3,-7,1,0,-4;4,3,2,2,1\n",
    "print(optimal_path(matrix))"
   ]
  },
  {
   "cell_type": "code",
   "execution_count": 8,
   "metadata": {},
   "outputs": [
    {
     "name": "stdout",
     "output_type": "stream",
     "text": [
      "\n"
     ]
    }
   ],
   "source": [
    "import sys\n",
    "\n",
    "def optimal_path(matrix, n):\n",
    "    path = []\n",
    "    row, col = 0, 0\n",
    "    if n % 2 == 0:\n",
    "        return []\n",
    "\n",
    "    center = (n - 1) // 2\n",
    "\n",
    "    # Top-left corner\n",
    "    if row == 0 and col == 0:\n",
    "        while row < center:\n",
    "            path.append('d')\n",
    "            row += 1\n",
    "        while col < center:\n",
    "            path.append('r')\n",
    "            col += 1\n",
    "\n",
    "    # Top-right corner\n",
    "    elif row == 0 and col == n - 1:\n",
    "        while row < center:\n",
    "            path.append('d')\n",
    "            row += 1\n",
    "        while col > center:\n",
    "            path.append('l')\n",
    "            col -= 1\n",
    "\n",
    "    # Bottom-right corner\n",
    "    elif row == n - 1 and col == n - 1:\n",
    "        while row > center:\n",
    "            path.append('u')\n",
    "            row -= 1\n",
    "        while col > center:\n",
    "            path.append('l')\n",
    "            col -= 1\n",
    "\n",
    "    # Bottom-left corner\n",
    "    elif row == n - 1 and col == 0:\n",
    "        while row > center:\n",
    "            path.append('u')\n",
    "            row -= 1\n",
    "        while col < center:\n",
    "            path.append('r')\n",
    "            col += 1\n",
    "\n",
    "    return path\n",
    "\n",
    "def main():\n",
    "    matrix = []\n",
    "    for line in sys.stdin:\n",
    "        matrix.append([int(x) for x in line.strip().split(';')])\n",
    "    n = len(matrix)\n",
    "    path = optimal_path(matrix, n)\n",
    "    print(','.join(path))\n",
    "\n",
    "if __name__ == '__main__':\n",
    "    main()"
   ]
  },
  {
   "cell_type": "code",
   "execution_count": null,
   "metadata": {},
   "outputs": [],
   "source": [
    "import sys\n",
    "\n",
    "maxval = -sys.maxsize\n",
    "res = []\n",
    "\n",
    "def traverserd(arr,i,j,currpath,n,currsum):\n",
    "    global maxval\n",
    "    global res\n",
    "    if i>n//2 or j>n//2:\n",
    "        return\n",
    "    if i==n//2 and j==n//2 and currsum>maxval:\n",
    "        maxval = currsum\n",
    "        res = currpath.copy()\n",
    "        return\n",
    "    currpath.append('d')\n",
    "    currsum += arr[i+1][j]\n",
    "    traverserd(arr,i+1,j,currpath,n,currsum)\n",
    "    currpath.pop()\n",
    "    currsum -= arr[i+1][j]\n",
    "    \n",
    "    currpath.append('r')\n",
    "    currsum += arr[i][j+1]\n",
    "    traverserd(arr,i,j+1,currpath,n,currsum)\n",
    "    currpath.pop()\n",
    "    currsum -= arr[i][j+1] \n",
    "    return\n",
    "  \n",
    "def traverseld(arr,i,j,currpath,n,currsum):\n",
    "    global maxval\n",
    "    global res\n",
    "    if i>n//2 or j<n//2:\n",
    "        return\n",
    "    if i==n//2 and j==n//2 and currsum>maxval:\n",
    "        maxval = currsum\n",
    "        res = currpath.copy()\n",
    "        return\n",
    "    currpath.append('d')\n",
    "    currsum += arr[i+1][j]\n",
    "    traverserd(arr,i+1,j,currpath,n,currsum)\n",
    "    currpath.pop()\n",
    "    currsum -= arr[i+1][j]\n",
    "    \n",
    "    currpath.append('l')\n",
    "    currsum += arr[i][j-1]\n",
    "    traverserd(arr,i,j-1,currpath,n,currsum)\n",
    "    currpath.pop()\n",
    "    currsum -= arr[i][j-1] \n",
    "    return\n",
    "\n",
    "def traverselu(arr,i,j,currpath,n,currsum):\n",
    "    global maxval\n",
    "    global res\n",
    "    if i<n//2 or j<n//2:\n",
    "        return\n",
    "    if i==n//2 and j==n//2 and currsum>maxval:\n",
    "        maxval = currsum\n",
    "        res = currpath.copy()\n",
    "        return\n",
    "    currpath.append('u')\n",
    "    currsum += arr[i-1][j]\n",
    "    traverserd(arr,i-1,j,currpath,n,currsum)\n",
    "    currpath.pop()\n",
    "    currsum -= arr[i-1][j]\n",
    "    \n",
    "    currpath.append('l')\n",
    "    currsum += arr[i][j-1]\n",
    "    traverserd(arr,i,j-1,currpath,n,currsum)\n",
    "    currpath.pop()\n",
    "    currsum -= arr[i][j-1] \n",
    "    return\n",
    "\n",
    "def traverseru(arr,i,j,currpath,n,currsum):\n",
    "    global maxval\n",
    "    global res\n",
    "    if i<n//2 or j>n//2:\n",
    "        return\n",
    "    if i==n//2 and j==n//2 and currsum>maxval:\n",
    "        maxval = currsum\n",
    "        res = currpath.copy()\n",
    "        return\n",
    "    currpath.append('u')\n",
    "    currsum += arr[i-1][j]\n",
    "    traverserd(arr,i-1,j,currpath,n,currsum)\n",
    "    currpath.pop()\n",
    "    currsum -= arr[i-1][j]\n",
    "    \n",
    "    currpath.append('r')\n",
    "    currsum += arr[i][j+1]\n",
    "    traverserd(arr,i,j+1,currpath,n,currsum)\n",
    "    currpath.pop()\n",
    "    currsum -= arr[i][j+1] \n",
    "    return\n",
    "\n",
    "for line in sys.stdin:\n",
    "    lines = line.split(';')\n",
    "    arr = []\n",
    "    for l in lines:\n",
    "        arr1 = l.split(',')\n",
    "        arr1 = [int(val) for val in arr1]\n",
    "        arr.append(arr1)\n",
    "    n = len(arr)\n",
    "    traverserd(arr,0,0,[],n,arr[0][0])\n",
    "    traverseld(arr,n-1,0,[],n,arr[n-1][0])\n",
    "    traverselu(arr,0,n-1,[],n,arr[0][n-1])\n",
    "    traverseru(arr,n-1,n-1,[],n,arr[n-1][n-1])\n",
    "    print(res)"
   ]
  }
 ],
 "metadata": {
  "kernelspec": {
   "display_name": "python38",
   "language": "python",
   "name": "python3"
  },
  "language_info": {
   "codemirror_mode": {
    "name": "ipython",
    "version": 3
   },
   "file_extension": ".py",
   "mimetype": "text/x-python",
   "name": "python",
   "nbconvert_exporter": "python",
   "pygments_lexer": "ipython3",
   "version": "3.8.16"
  },
  "orig_nbformat": 4,
  "vscode": {
   "interpreter": {
    "hash": "c919f66377084bbe5264acaad3227a0b6e2b7b31c717b6c23ee3b90ae87f6f0d"
   }
  }
 },
 "nbformat": 4,
 "nbformat_minor": 2
}
