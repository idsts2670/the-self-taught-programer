{
 "cells": [
  {
   "cell_type": "code",
   "execution_count": 1,
   "metadata": {},
   "outputs": [],
   "source": [
    "import math"
   ]
  },
  {
   "cell_type": "code",
   "execution_count": 5,
   "metadata": {},
   "outputs": [
    {
     "name": "stdout",
     "output_type": "stream",
     "text": [
      "チャレンジ2 output\n",
      "12.566370614359172\n",
      "チャレンジ 3 output\n",
      "4.0\n",
      "チャレンジ 4 output\n",
      "12\n"
     ]
    }
   ],
   "source": [
    "# オブジェクト指向プログラミングの練習 P156\n",
    "# チャレンジ 1\n",
    "class Apple:\n",
    "    def __init__(self, s, c, sw, w):\n",
    "        self.shape = s\n",
    "        self.color = c\n",
    "        self.sweetness = sw\n",
    "        self.weight = w\n",
    "\n",
    "\n",
    "# チャレンジ 2\n",
    "## 円を表すCircleクラスを定義\n",
    "class Circle:\n",
    "    def __init__(self, r):\n",
    "        self.radius = r\n",
    "    \n",
    "    # 面積を計算して返すメソッドareaを定義\n",
    "    def area(self):\n",
    "       return self.radius * self.radius * math.pi\n",
    "\n",
    "# Circleオブジェクトの面積を返す\n",
    "circle = Circle(2)\n",
    "print('チャレンジ2 output')\n",
    "print(circle.area())\n",
    "\n",
    "\n",
    "# チャレンジ 3\n",
    "class Triangle:\n",
    "    def __init__(self, b, h):\n",
    "        self.base = b\n",
    "        self.height = h\n",
    "    \n",
    "    # 面積を計算して返すメソッドareaを定義\n",
    "    def area(self):\n",
    "        return (1/2) * self.base * self.height\n",
    "\n",
    "# Triangleオブジェクトの面積を返す\n",
    "triangle = Triangle(2, 4)\n",
    "print('チャレンジ 3 output')\n",
    "print(triangle.area())\n",
    "\n",
    "# チャレンジ 4\n",
    "class Hexagon:\n",
    "    def __init__(self, a):\n",
    "        self.length = a\n",
    "    \n",
    "    # 外周の長さを計算して返すメソッドcalculate_perimeterを定義\n",
    "    def calculate_perimeter(self):\n",
    "        return 6 * self.length\n",
    "\n",
    "# Hexagonオブジェクトの外周を返す\n",
    "hexagon = Hexagon(2)\n",
    "print('チャレンジ 4 output')\n",
    "print(hexagon.calculate_perimeter())\n"
   ]
  },
  {
   "attachments": {},
   "cell_type": "markdown",
   "metadata": {},
   "source": [
    "# オブジェクト指向プログラミングの4大要素"
   ]
  },
  {
   "cell_type": "code",
   "execution_count": null,
   "metadata": {},
   "outputs": [],
   "source": [
    "# カプセル化\n"
   ]
  }
 ],
 "metadata": {
  "kernelspec": {
   "display_name": "python38",
   "language": "python",
   "name": "python3"
  },
  "language_info": {
   "codemirror_mode": {
    "name": "ipython",
    "version": 3
   },
   "file_extension": ".py",
   "mimetype": "text/x-python",
   "name": "python",
   "nbconvert_exporter": "python",
   "pygments_lexer": "ipython3",
   "version": "3.8.15 | packaged by conda-forge | (default, Nov 22 2022, 08:52:09) \n[Clang 14.0.6 ]"
  },
  "orig_nbformat": 4,
  "vscode": {
   "interpreter": {
    "hash": "c919f66377084bbe5264acaad3227a0b6e2b7b31c717b6c23ee3b90ae87f6f0d"
   }
  }
 },
 "nbformat": 4,
 "nbformat_minor": 2
}
