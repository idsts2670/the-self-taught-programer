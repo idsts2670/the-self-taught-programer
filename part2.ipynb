{
 "cells": [
  {
   "attachments": {},
   "cell_type": "markdown",
   "metadata": {},
   "source": [
    "# Programming Paradigms"
   ]
  },
  {
   "cell_type": "code",
   "execution_count": 1,
   "metadata": {},
   "outputs": [],
   "source": [
    "import math"
   ]
  },
  {
   "cell_type": "code",
   "execution_count": null,
   "metadata": {},
   "outputs": [],
   "source": [
    "# object oriented programming practice P156\n",
    "# challenge 1\n",
    "class Apple:\n",
    "    def __init__(self, c, w, s, sw):\n",
    "        self.color = c\n",
    "        self.wegight = w\n",
    "        self.size = s\n",
    "        self.sweetness = sw\n",
    "\n",
    "# chllange 2\n",
    "## create a circle class with an area method\n",
    "class Circle:\n",
    "    def __init__(self, r):\n",
    "        self.radium = r\n",
    "    \n",
    "    def area(self):\n",
    "        return self.radium ** 2 * math.pi\n",
    "\n",
    "# Circle object test\n",
    "circle = Circle(2)\n",
    "print('Challenge 2:')\n",
    "print(circle.area())\n",
    "\n",
    "# challenge 3\n",
    "class Triangle:\n",
    "    def __init__(self, b, h):\n",
    "        self.base = b\n",
    "        self.height = h\n",
    "\n",
    "    def area(self):\n",
    "        return self.base * self.height / 2\n",
    "\n",
    "# return the area of triangle\n",
    "triangle = Triangle(2, 3)\n",
    "print('Challenge 3:')\n",
    "print(triangle.area())\n",
    "\n",
    "# challenge 4\n",
    "class Hexagon:\n",
    "    def __init__(self, l):\n",
    "        self.length = l\n",
    "    \n",
    "    # calculate the perimeter of hexagon\n",
    "    def calculate_perimeter(self):\n",
    "        return self.length * 6\n",
    "\n",
    "hexagon = Hexagon(2)\n",
    "print('Challenge 4:')\n",
    "print(hexagon.calculate_perimeter())\n"
   ]
  },
  {
   "attachments": {},
   "cell_type": "markdown",
   "metadata": {},
   "source": [
    "# 4 Pillars of Object Orinted Programming\n",
    "1. Encapsulation\n",
    "2. Abstraction\n",
    "3. PolyMorphism\n",
    "4. Inheritance"
   ]
  },
  {
   "attachments": {},
   "cell_type": "markdown",
   "metadata": {},
   "source": [
    "Encapsulation"
   ]
  },
  {
   "cell_type": "code",
   "execution_count": 4,
   "metadata": {},
   "outputs": [
    {
     "name": "stdout",
     "output_type": "stream",
     "text": [
      "[100, 2, 3, 4, 5]\n",
      "[100, 2, 3, 4, 5]\n"
     ]
    }
   ],
   "source": [
    "# Encapsulation is the process of keeping multiple variables and methods within a single class by using some objects\n",
    "# http://tinyurl.com/j74o5rh\n",
    "\n",
    "class Rectangle:\n",
    "    def __init__(self, w, l):\n",
    "        self.width = w\n",
    "        self.len = l\n",
    "    \n",
    "    def area(self):\n",
    "        return self.width * self.len\n",
    "    \n",
    "# Encapsulation is also the process of hiding the inner working or the data of an object from the outside world.\n",
    "# http://tinyurl.com/jtz28ha\n",
    "\n",
    "class Data:\n",
    "    def __init__(self):\n",
    "        self.nums = [1, 2, 3, 4, 5]\n",
    "\n",
    "    # example of private method. In this way, client can't access the data within the class\n",
    "    def change_data(self, index, n):\n",
    "        self.nums[index] = n\n",
    "\n",
    "# these return the same result\n",
    "data_one = Data()\n",
    "data_one.nums[0]  = 100\n",
    "print(data_one.nums)\n",
    "\n",
    "data_two = Data()\n",
    "data_two.change_data(0, 100)\n",
    "print(data_two.nums)"
   ]
  },
  {
   "cell_type": "code",
   "execution_count": null,
   "metadata": {},
   "outputs": [],
   "source": [
    "# Python doesn't have a private keyword, but it does have a convention that is used to indicate that a variable or method is intended to be private, which is to begin the variable or method name with an underscore.\n",
    "# http://tinyurl.com/jkaorle\n",
    "\n",
    "class PublicPrivateExample:\n",
    "    def __init__(self):\n",
    "        self.public = \"safe\"\n",
    "        self._unsafe = \"unsafe\"\n",
    "    \n",
    "    def public_method(self):\n",
    "        # clients can use this\n",
    "        pass \n",
    "\n",
    "    def _unsafe_method(self):\n",
    "        # clients shouldn't use this\n",
    "        pass"
   ]
  },
  {
   "attachments": {},
   "cell_type": "markdown",
   "metadata": {},
   "source": [
    "Abstraction\n",
    "\n",
    ">Abstraction is the process of hiding the implementation details and showing only functionality to the user.\n"
   ]
  },
  {
   "attachments": {},
   "cell_type": "markdown",
   "metadata": {},
   "source": [
    "Polymorphism"
   ]
  },
  {
   "cell_type": "code",
   "execution_count": null,
   "metadata": {},
   "outputs": [],
   "source": [
    "# Polymorphism means having many forms. In programming, polymorphism means same function name (but different signatures) being uses for different types.\n",
    "# http://tinyurl.com/hrxd7gn\n",
    "# this example shows that the same method name can be used for different types of objects\n",
    "print(\"Hello, World!\")\n",
    "print(200)\n",
    "print(200.1)\n",
    "\n",
    "# With Polymorphism, we can use the same method name for different objects and the method will behave differently depending on the type of object it is acting upon.\n",
    "## this does not work just for reference\n",
    "shapes = [tr1, sw1, cr1]\n",
    "for a_shape in shapes:\n",
    "    print(a_shape.draw())"
   ]
  },
  {
   "attachments": {},
   "cell_type": "markdown",
   "metadata": {},
   "source": [
    "Inheritance"
   ]
  },
  {
   "cell_type": "code",
   "execution_count": 6,
   "metadata": {},
   "outputs": [
    {
     "name": "stdout",
     "output_type": "stream",
     "text": [
      "20 by 25\n"
     ]
    }
   ],
   "source": [
    "# Inheritance is the process by which one class takes on the attributes and methods of another. Newly formed classes are called child classes, and the classes that child classes are derived from are called parent classes.\n",
    "# http://tinyurl.com/zrnqeo3\n",
    "\n",
    "class Shape:\n",
    "    def __init__(self, w, l):\n",
    "        self.width = w\n",
    "        self.len = l\n",
    "    \n",
    "    def print_size(self):\n",
    "        print(\"{} by {}\".format(self.width, self.len))\n",
    "\n",
    "my_shape = Shape(20, 25)\n",
    "my_shape.print_size()"
   ]
  },
  {
   "cell_type": "code",
   "execution_count": 7,
   "metadata": {},
   "outputs": [
    {
     "name": "stdout",
     "output_type": "stream",
     "text": [
      "400\n"
     ]
    }
   ],
   "source": [
    "# this is the child class of Shape\n",
    "\n",
    "class Square(Shape):\n",
    "    def area(self):\n",
    "        return self.width * self.len\n",
    "\n",
    "a_square = Square(20, 20)\n",
    "# Square class inherits the variables and methods from Shape class. This way, we don't need to define the variables and methods again.\n",
    "print(a_square.area())"
   ]
  },
  {
   "cell_type": "code",
   "execution_count": 8,
   "metadata": {},
   "outputs": [
    {
     "name": "stdout",
     "output_type": "stream",
     "text": [
      "I am 20 by 20\n"
     ]
    }
   ],
   "source": [
    "# when child class has the same method name as the parent class, the child class's method will override the parent class's method by redefine the method in the child class\n",
    "\n",
    "class Square(Shape):\n",
    "    def area(self):\n",
    "        return self.width * self.len\n",
    "    \n",
    "    def print_size(self):\n",
    "        # this method will override the parent class's method\n",
    "        print(\"I am {} by {}\".format(self.width, self.len))\n",
    "\n",
    "a_square = Square(20, 20)\n",
    "a_square.print_size()"
   ]
  },
  {
   "attachments": {},
   "cell_type": "markdown",
   "metadata": {},
   "source": [
    "Composition"
   ]
  },
  {
   "cell_type": "code",
   "execution_count": 10,
   "metadata": {},
   "outputs": [
    {
     "name": "stdout",
     "output_type": "stream",
     "text": [
      "<__main__.Person object at 0x103ea5ca0>\n"
     ]
    }
   ],
   "source": [
    "# Composition displays \"has-a\" relationship between classes. For example, a car \"has an\" engine. In composition, a class known as composite contains an object of another class known to as component. In other words, a composite class has a component of another class.\n",
    "\n",
    "class Dog:\n",
    "    def __init__(self, name, breed, owner):\n",
    "        self.name = name\n",
    "        self.breed = breed\n",
    "        self.owner = owner\n",
    "    \n",
    "class Person:\n",
    "    def __init__(self, name):\n",
    "        self.name = name\n",
    "\n",
    "mick = Person(\"Mick Jagger\")\n",
    "stan = Dog(\"Stanley\", \"Bulldog\", mick)\n",
    "print(stan.owner.name)\n",
    "# this example shows that the Dog class has a Person class as its attribute"
   ]
  },
  {
   "cell_type": "code",
   "execution_count": 12,
   "metadata": {},
   "outputs": [
    {
     "name": "stdout",
     "output_type": "stream",
     "text": [
      "10\n",
      "8\n"
     ]
    }
   ],
   "source": [
    "# challenge1\n",
    "class Rectangle:\n",
    "    def __init__(self, w, l):\n",
    "        self.width = w\n",
    "        self.len = l\n",
    "    \n",
    "    def calculate_perimeter(self):\n",
    "        return self.width * 2 + self.len * 2\n",
    "    \n",
    "class Square:\n",
    "    def __init__(self, w):\n",
    "        self.width = w\n",
    "    \n",
    "    def calculate_perimeter(self):\n",
    "        return self.width * 4\n",
    "    \n",
    "a_rectangle = Rectangle(2, 3)\n",
    "print(a_rectangle.calculate_perimeter())\n",
    "\n",
    "a_square = Square(2)\n",
    "print(a_square.calculate_perimeter())"
   ]
  },
  {
   "cell_type": "code",
   "execution_count": 15,
   "metadata": {},
   "outputs": [
    {
     "name": "stdout",
     "output_type": "stream",
     "text": [
      "100\n",
      "300\n"
     ]
    }
   ],
   "source": [
    "# challenge2\n",
    "class Square:\n",
    "    def __init__(self, s):\n",
    "        self.side = s\n",
    "    \n",
    "    def calculate_perimeter(self):\n",
    "        return self.side * 4\n",
    "    \n",
    "    def change_size(self, n):\n",
    "        self.side += n\n",
    "        return self.side\n",
    "\n",
    "a_square = Square(100)\n",
    "print(a_square.side)\n",
    "print(a_square.change_size(200))"
   ]
  },
  {
   "cell_type": "code",
   "execution_count": null,
   "metadata": {},
   "outputs": [],
   "source": [
    "# challenge3\n",
    "class Shape:\n",
    "    def what_am_i(self):\n",
    "        print(\"I am a shape.\")\n",
    "    \n",
    "class Rectangle(Shape):\n",
    "    def __init__(self, width, length):\n",
    "        self.width = width\n",
    "        self.length = length\n",
    "    \n",
    "    def calculate_perimeter(self):\n",
    "        return self.width * 2 + self.length * 2\n",
    "\n",
    "class Square(Shape):\n",
    "    def __init__(self, s):\n",
    "        self.side = s\n",
    "    \n",
    "    def calculate_perimeter(self):\n",
    "        return self.side * 4\n",
    "\n",
    "a_square = Rectangle(20, 20)\n",
    "print(a_square.what_am_i())\n",
    "a_rectangle = Square(20)\n",
    "print(a_.what_am_i())"
   ]
  }
 ],
 "metadata": {
  "kernelspec": {
   "display_name": "python38",
   "language": "python",
   "name": "python3"
  },
  "language_info": {
   "codemirror_mode": {
    "name": "ipython",
    "version": 3
   },
   "file_extension": ".py",
   "mimetype": "text/x-python",
   "name": "python",
   "nbconvert_exporter": "python",
   "pygments_lexer": "ipython3",
   "version": "3.8.16"
  },
  "orig_nbformat": 4,
  "vscode": {
   "interpreter": {
    "hash": "c919f66377084bbe5264acaad3227a0b6e2b7b31c717b6c23ee3b90ae87f6f0d"
   }
  }
 },
 "nbformat": 4,
 "nbformat_minor": 2
}
