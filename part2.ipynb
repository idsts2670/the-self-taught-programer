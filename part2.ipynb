{
 "cells": [
  {
   "attachments": {},
   "cell_type": "markdown",
   "metadata": {},
   "source": [
    "# Programming Paradigms"
   ]
  },
  {
   "cell_type": "code",
   "execution_count": 1,
   "metadata": {},
   "outputs": [],
   "source": [
    "import math"
   ]
  },
  {
   "cell_type": "code",
   "execution_count": null,
   "metadata": {},
   "outputs": [],
   "source": [
    "# object oriented programming practice P156\n",
    "# challenge 1\n",
    "class Apple:\n",
    "    def __init__(self, c, w, s, sw):\n",
    "        self.color = c\n",
    "        self.wegight = w\n",
    "        self.size = s\n",
    "        self.sweetness = sw\n",
    "\n",
    "# chllange 2\n",
    "## create a circle class with an area method\n",
    "class Circle:\n",
    "    def __init__(self, r):\n",
    "        self.radium = r\n",
    "    \n",
    "    def area(self):\n",
    "        return self.radium ** 2 * math.pi\n",
    "\n",
    "# Circle object test\n",
    "circle = Circle(2)\n",
    "print('Challenge 2:')\n",
    "print(circle.area())\n",
    "\n",
    "# challenge 3\n",
    "class Triangle:\n",
    "    def __init__(self, b, h):\n",
    "        self.base = b\n",
    "        self.height = h\n",
    "\n",
    "    def area(self):\n",
    "        return self.base * self.height / 2\n",
    "\n",
    "# return the area of triangle\n",
    "triangle = Triangle(2, 3)\n",
    "print('Challenge 3:')\n",
    "print(triangle.area())\n",
    "\n",
    "# challenge 4\n",
    "class Hexagon:\n",
    "    def __init__(self, l):\n",
    "        self.length = l\n",
    "    \n",
    "    # calculate the perimeter of hexagon\n",
    "    def calculate_perimeter(self):\n",
    "        return self.length * 6\n",
    "\n",
    "hexagon = Hexagon(2)\n",
    "print('Challenge 4:')\n",
    "print(hexagon.calculate_perimeter())\n"
   ]
  },
  {
   "attachments": {},
   "cell_type": "markdown",
   "metadata": {},
   "source": [
    "# 4 Pillars of Object Orinted Programming\n",
    "1. Encapsulation\n",
    "2. Abstraction\n",
    "3. Inheritance\n",
    "4. PolyMorphism"
   ]
  },
  {
   "cell_type": "code",
   "execution_count": 4,
   "metadata": {},
   "outputs": [
    {
     "name": "stdout",
     "output_type": "stream",
     "text": [
      "[100, 2, 3, 4, 5]\n",
      "[100, 2, 3, 4, 5]\n"
     ]
    }
   ],
   "source": [
    "# Encapsulation is the process of keeping multiple variables and methods within a single class by using some objects\n",
    "# http://tinyurl.com/j74o5rh\n",
    "\n",
    "class Rectangle:\n",
    "    def __init__(self, w, l):\n",
    "        self.width = w\n",
    "        self.len = l\n",
    "    \n",
    "    def area(self):\n",
    "        return self.width * self.len\n",
    "    \n",
    "# Encapsulation is also the process of hiding the inner working or the data of an object from the outside world.\n",
    "# http://tinyurl.com/jtz28ha\n",
    "\n",
    "class Data:\n",
    "    def __init__(self):\n",
    "        self.nums = [1, 2, 3, 4, 5]\n",
    "\n",
    "    def change_data(self, index, n):\n",
    "        self.nums[index] = n\n",
    "\n",
    "# these return the same result\n",
    "data_one = Data()\n",
    "data_one.nums[0]  = 100\n",
    "print(data_one.nums)\n",
    "\n",
    "data_two = Data()\n",
    "data_two.change_data(0, 100)\n",
    "print(data_two.nums)"
   ]
  },
  {
   "cell_type": "code",
   "execution_count": null,
   "metadata": {},
   "outputs": [],
   "source": []
  }
 ],
 "metadata": {
  "kernelspec": {
   "display_name": "python38",
   "language": "python",
   "name": "python3"
  },
  "language_info": {
   "codemirror_mode": {
    "name": "ipython",
    "version": 3
   },
   "file_extension": ".py",
   "mimetype": "text/x-python",
   "name": "python",
   "nbconvert_exporter": "python",
   "pygments_lexer": "ipython3",
   "version": "3.8.16"
  },
  "orig_nbformat": 4,
  "vscode": {
   "interpreter": {
    "hash": "c919f66377084bbe5264acaad3227a0b6e2b7b31c717b6c23ee3b90ae87f6f0d"
   }
  }
 },
 "nbformat": 4,
 "nbformat_minor": 2
}
